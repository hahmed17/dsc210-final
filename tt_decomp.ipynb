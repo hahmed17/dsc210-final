{
 "cells": [
  {
   "cell_type": "code",
   "execution_count": 1,
   "id": "6ee59d0a",
   "metadata": {},
   "outputs": [],
   "source": [
    "import tensorflow as tf\n",
    "import tensorly as tl\n",
    "from tensorly import tt_to_tensor\n",
    "from tensorly.decomposition import tensor_train\n",
    "from sklearn.model_selection import train_test_split\n",
    "from sklearn.linear_model import LogisticRegression\n",
    "import numpy as np\n",
    "import matplotlib.pyplot as plt\n",
    "import cv2"
   ]
  },
  {
   "cell_type": "code",
   "execution_count": 2,
   "id": "4f25e1a2",
   "metadata": {},
   "outputs": [
    {
     "data": {
      "text/plain": [
       "array([[ 0.00000000e+00,  0.00000000e+00,  0.00000000e+00,\n",
       "         0.00000000e+00,  0.00000000e+00,  0.00000000e+00,\n",
       "         0.00000000e+00,  0.00000000e+00,  0.00000000e+00,\n",
       "         0.00000000e+00,  0.00000000e+00,  0.00000000e+00],\n",
       "       [ 0.00000000e+00,  1.41866180e-16, -6.71068805e-16,\n",
       "        -1.91200728e-16,  1.00000000e+00,  1.00000000e+00,\n",
       "         1.00000000e+00,  1.00000000e+00, -2.66444163e-16,\n",
       "        -2.66444163e-16, -2.66444163e-16,  0.00000000e+00],\n",
       "       [ 0.00000000e+00,  1.80341980e-17, -7.94900787e-16,\n",
       "        -3.15032709e-16,  1.00000000e+00,  1.00000000e+00,\n",
       "         1.00000000e+00,  1.00000000e+00, -3.90276144e-16,\n",
       "        -3.90276144e-16, -3.90276144e-16,  0.00000000e+00],\n",
       "       [ 0.00000000e+00,  2.44390375e-17, -7.88495947e-16,\n",
       "        -2.53116719e-16,  1.00000000e+00,  1.00000000e+00,\n",
       "         1.00000000e+00,  1.00000000e+00, -3.83871305e-16,\n",
       "        -3.83871305e-16, -3.83871305e-16,  0.00000000e+00],\n",
       "       [ 0.00000000e+00,  1.00000000e+00,  1.00000000e+00,\n",
       "         1.00000000e+00,  1.00000000e+00,  1.00000000e+00,\n",
       "         1.00000000e+00,  1.00000000e+00,  1.00000000e+00,\n",
       "         1.00000000e+00,  1.00000000e+00,  0.00000000e+00],\n",
       "       [ 0.00000000e+00,  1.00000000e+00,  1.00000000e+00,\n",
       "         1.00000000e+00,  1.00000000e+00,  1.00000000e+00,\n",
       "         1.00000000e+00,  1.00000000e+00,  1.00000000e+00,\n",
       "         1.00000000e+00,  1.00000000e+00,  0.00000000e+00],\n",
       "       [ 0.00000000e+00,  1.00000000e+00,  1.00000000e+00,\n",
       "         1.00000000e+00,  1.00000000e+00,  1.00000000e+00,\n",
       "         1.00000000e+00,  1.00000000e+00,  1.00000000e+00,\n",
       "         1.00000000e+00,  1.00000000e+00,  0.00000000e+00],\n",
       "       [ 0.00000000e+00,  1.00000000e+00,  1.00000000e+00,\n",
       "         1.00000000e+00,  1.00000000e+00,  1.00000000e+00,\n",
       "         1.00000000e+00,  1.00000000e+00,  1.00000000e+00,\n",
       "         1.00000000e+00,  1.00000000e+00,  0.00000000e+00],\n",
       "       [ 0.00000000e+00,  2.44390375e-17, -7.88495947e-16,\n",
       "        -2.53116719e-16,  1.00000000e+00,  1.00000000e+00,\n",
       "         1.00000000e+00,  1.00000000e+00, -3.83871305e-16,\n",
       "        -3.83871305e-16, -3.83871305e-16,  0.00000000e+00],\n",
       "       [ 0.00000000e+00,  2.44390375e-17, -7.88495947e-16,\n",
       "        -2.53116719e-16,  1.00000000e+00,  1.00000000e+00,\n",
       "         1.00000000e+00,  1.00000000e+00, -3.83871305e-16,\n",
       "        -3.83871305e-16, -3.83871305e-16,  0.00000000e+00],\n",
       "       [ 0.00000000e+00,  2.44390375e-17, -7.88495947e-16,\n",
       "        -2.53116719e-16,  1.00000000e+00,  1.00000000e+00,\n",
       "         1.00000000e+00,  1.00000000e+00, -3.83871305e-16,\n",
       "        -3.83871305e-16, -3.83871305e-16,  0.00000000e+00],\n",
       "       [ 0.00000000e+00,  0.00000000e+00,  0.00000000e+00,\n",
       "         0.00000000e+00,  0.00000000e+00,  0.00000000e+00,\n",
       "         0.00000000e+00,  0.00000000e+00,  0.00000000e+00,\n",
       "         0.00000000e+00,  0.00000000e+00,  0.00000000e+00]])"
      ]
     },
     "execution_count": 2,
     "metadata": {},
     "output_type": "execute_result"
    }
   ],
   "source": [
    "# Example\n",
    "# Create a tensor of rank 2\n",
    "tensor = tl.tensor([[ 0.,  0.,  0.,  0.,  0.,  0.,  0.,  0.,  0.,  0.,  0.,  0.],\n",
    "                        [ 0.,  0.,  0.,  0.,  1.,  1.,  1.,  1.,  0.,  0.,  0.,  0.],\n",
    "                        [ 0.,  0.,  0.,  0.,  1.,  1.,  1.,  1.,  0.,  0.,  0.,  0.],\n",
    "                        [ 0.,  0.,  0.,  0.,  1.,  1.,  1.,  1.,  0.,  0.,  0.,  0.],\n",
    "                        [ 0.,  1.,  1.,  1.,  1.,  1.,  1.,  1.,  1.,  1.,  1.,  0.],\n",
    "                        [ 0.,  1.,  1.,  1.,  1.,  1.,  1.,  1.,  1.,  1.,  1.,  0.],\n",
    "                        [ 0.,  1.,  1.,  1.,  1.,  1.,  1.,  1.,  1.,  1.,  1.,  0.],\n",
    "                        [ 0.,  1.,  1.,  1.,  1.,  1.,  1.,  1.,  1.,  1.,  1.,  0.],\n",
    "                        [ 0.,  0.,  0.,  0.,  1.,  1.,  1.,  1.,  0.,  0.,  0.,  0.],\n",
    "                        [ 0.,  0.,  0.,  0.,  1.,  1.,  1.,  1.,  0.,  0.,  0.,  0.],\n",
    "                        [ 0.,  0.,  0.,  0.,  1.,  1.,  1.,  1.,  0.,  0.,  0.,  0.],\n",
    "                        [ 0.,  0.,  0.,  0.,  0.,  0.,  0.,  0.,  0.,  0.,  0.,  0.]])\n",
    "\n",
    "# Decompose the tensor using TTD\n",
    "factors = tensor_train(tensor, rank=[1,2,1])\n",
    "\n",
    "# Check that the reverse TT decomposition is the original tensor\n",
    "check_tensor = tt_to_tensor(factors)\n",
    "check_tensor"
   ]
  },
  {
   "cell_type": "code",
   "execution_count": 3,
   "id": "087c7ce4",
   "metadata": {},
   "outputs": [],
   "source": [
    "# ML demo with CIFAR image data set\n",
    "def tt_decompose_and_flatten(tensor, rank):\n",
    "    factors = tensor_train(tensor, rank=rank)\n",
    "    flattened = tl.tt_to_tensor(factors).flatten()\n",
    "    return flattened"
   ]
  },
  {
   "cell_type": "code",
   "execution_count": 4,
   "id": "23e81a4e",
   "metadata": {},
   "outputs": [
    {
     "data": {
      "text/plain": [
       "array([ 0.00000000e+00,  0.00000000e+00,  0.00000000e+00,  0.00000000e+00,\n",
       "        0.00000000e+00,  0.00000000e+00,  0.00000000e+00,  0.00000000e+00,\n",
       "        0.00000000e+00,  0.00000000e+00,  0.00000000e+00,  0.00000000e+00,\n",
       "        0.00000000e+00,  1.41866180e-16, -6.71068805e-16, -1.91200728e-16,\n",
       "        1.00000000e+00,  1.00000000e+00,  1.00000000e+00,  1.00000000e+00,\n",
       "       -2.66444163e-16, -2.66444163e-16, -2.66444163e-16,  0.00000000e+00,\n",
       "        0.00000000e+00,  1.80341980e-17, -7.94900787e-16, -3.15032709e-16,\n",
       "        1.00000000e+00,  1.00000000e+00,  1.00000000e+00,  1.00000000e+00,\n",
       "       -3.90276144e-16, -3.90276144e-16, -3.90276144e-16,  0.00000000e+00,\n",
       "        0.00000000e+00,  2.44390375e-17, -7.88495947e-16, -2.53116719e-16,\n",
       "        1.00000000e+00,  1.00000000e+00,  1.00000000e+00,  1.00000000e+00,\n",
       "       -3.83871305e-16, -3.83871305e-16, -3.83871305e-16,  0.00000000e+00,\n",
       "        0.00000000e+00,  1.00000000e+00,  1.00000000e+00,  1.00000000e+00,\n",
       "        1.00000000e+00,  1.00000000e+00,  1.00000000e+00,  1.00000000e+00,\n",
       "        1.00000000e+00,  1.00000000e+00,  1.00000000e+00,  0.00000000e+00,\n",
       "        0.00000000e+00,  1.00000000e+00,  1.00000000e+00,  1.00000000e+00,\n",
       "        1.00000000e+00,  1.00000000e+00,  1.00000000e+00,  1.00000000e+00,\n",
       "        1.00000000e+00,  1.00000000e+00,  1.00000000e+00,  0.00000000e+00,\n",
       "        0.00000000e+00,  1.00000000e+00,  1.00000000e+00,  1.00000000e+00,\n",
       "        1.00000000e+00,  1.00000000e+00,  1.00000000e+00,  1.00000000e+00,\n",
       "        1.00000000e+00,  1.00000000e+00,  1.00000000e+00,  0.00000000e+00,\n",
       "        0.00000000e+00,  1.00000000e+00,  1.00000000e+00,  1.00000000e+00,\n",
       "        1.00000000e+00,  1.00000000e+00,  1.00000000e+00,  1.00000000e+00,\n",
       "        1.00000000e+00,  1.00000000e+00,  1.00000000e+00,  0.00000000e+00,\n",
       "        0.00000000e+00,  2.44390375e-17, -7.88495947e-16, -2.53116719e-16,\n",
       "        1.00000000e+00,  1.00000000e+00,  1.00000000e+00,  1.00000000e+00,\n",
       "       -3.83871305e-16, -3.83871305e-16, -3.83871305e-16,  0.00000000e+00,\n",
       "        0.00000000e+00,  2.44390375e-17, -7.88495947e-16, -2.53116719e-16,\n",
       "        1.00000000e+00,  1.00000000e+00,  1.00000000e+00,  1.00000000e+00,\n",
       "       -3.83871305e-16, -3.83871305e-16, -3.83871305e-16,  0.00000000e+00,\n",
       "        0.00000000e+00,  2.44390375e-17, -7.88495947e-16, -2.53116719e-16,\n",
       "        1.00000000e+00,  1.00000000e+00,  1.00000000e+00,  1.00000000e+00,\n",
       "       -3.83871305e-16, -3.83871305e-16, -3.83871305e-16,  0.00000000e+00,\n",
       "        0.00000000e+00,  0.00000000e+00,  0.00000000e+00,  0.00000000e+00,\n",
       "        0.00000000e+00,  0.00000000e+00,  0.00000000e+00,  0.00000000e+00,\n",
       "        0.00000000e+00,  0.00000000e+00,  0.00000000e+00,  0.00000000e+00])"
      ]
     },
     "execution_count": 4,
     "metadata": {},
     "output_type": "execute_result"
    }
   ],
   "source": [
    "tt_decompose_and_flatten(tensor, 2)"
   ]
  },
  {
   "cell_type": "code",
   "execution_count": 5,
   "id": "cbfbfcdd",
   "metadata": {},
   "outputs": [],
   "source": [
    "import time"
   ]
  },
  {
   "cell_type": "code",
   "execution_count": 6,
   "id": "2cc54ad4",
   "metadata": {},
   "outputs": [],
   "source": [
    "# ML demo with CIFAR image data set\n",
    "def tt_decompose_and_flatten(tensor, rank):\n",
    "    factors = tensor_train(tensor, rank=rank)\n",
    "    flattened = tl.tt_to_tensor(factors).flatten()\n",
    "    return flattened\n",
    "\n",
    "# load CIFAR-10 dataset\n",
    "(x_train, y_train), (x_test, y_test) = tf.keras.datasets.cifar10.load_data()"
   ]
  },
  {
   "cell_type": "code",
   "execution_count": 7,
   "id": "ea4b125a",
   "metadata": {},
   "outputs": [
    {
     "name": "stdout",
     "output_type": "stream",
     "text": [
      "CPU times: user 666 ms, sys: 255 ms, total: 921 ms\n",
      "Wall time: 1.42 s\n"
     ]
    }
   ],
   "source": [
    "%%time\n",
    "# normalize pixel values to be between 0 and 1\n",
    "x_train, x_test = x_train / 255.0, x_test / 255.0\n",
    "\n",
    "# flatten the labels\n",
    "y_train, y_test = y_train.flatten(), y_test.flatten()\n",
    "\n",
    "# select a subset of the data\n",
    "subset_size = 1000\n",
    "x_train_subset = x_train[:subset_size]\n",
    "y_train_subset = y_train[:subset_size]\n",
    "\n",
    "# apply TT Decomposition to each image in the subset\n",
    "processed_x_train_subset = np.array([tt_decompose_and_flatten(image, int(tf.rank(image))) for image in x_train_subset])\n"
   ]
  },
  {
   "cell_type": "code",
   "execution_count": 8,
   "id": "24dbc39a",
   "metadata": {},
   "outputs": [
    {
     "name": "stdout",
     "output_type": "stream",
     "text": [
      "Model Accuracy: 0.255\n"
     ]
    }
   ],
   "source": [
    "# split subset into training and test sets\n",
    "X_train, X_val, y_train, y_val = train_test_split(processed_x_train_subset, y_train_subset, test_size=0.2)\n",
    "\n",
    "# train a simple logistic regression model\n",
    "model = LogisticRegression(max_iter=1000)\n",
    "model.fit(X_train, y_train)\n",
    "\n",
    "# evaluate the model\n",
    "accuracy = model.score(X_val, y_val)\n",
    "print(f\"Model Accuracy: {accuracy}\")"
   ]
  },
  {
   "cell_type": "code",
   "execution_count": 9,
   "id": "ab5b9ee8",
   "metadata": {},
   "outputs": [
    {
     "name": "stderr",
     "output_type": "stream",
     "text": [
      "/Users/Hena/Library/Python/3.8/lib/python/site-packages/sklearn/linear_model/_logistic.py:460: ConvergenceWarning: lbfgs failed to converge (status=1):\n",
      "STOP: TOTAL NO. of ITERATIONS REACHED LIMIT.\n",
      "\n",
      "Increase the number of iterations (max_iter) or scale the data as shown in:\n",
      "    https://scikit-learn.org/stable/modules/preprocessing.html\n",
      "Please also refer to the documentation for alternative solver options:\n",
      "    https://scikit-learn.org/stable/modules/linear_model.html#logistic-regression\n",
      "  n_iter_i = _check_optimize_result(\n"
     ]
    },
    {
     "name": "stdout",
     "output_type": "stream",
     "text": [
      "{'(32, 32)': [0.235, 0.6100709438323975, 109.977806]}\n",
      "{'(32, 32)': [0.235, 0.6100709438323975, 109.977806], '(16, 16)': [0.315, 0.41018199920654297, 212.532509]}\n",
      "{'(32, 32)': [0.235, 0.6100709438323975, 109.977806], '(16, 16)': [0.315, 0.41018199920654297, 212.532509], '(8, 8)': [0.335, 0.2852950096130371, 234.737768]}\n",
      "{'(32, 32)': [0.235, 0.6100709438323975, 109.977806], '(16, 16)': [0.315, 0.41018199920654297, 212.532509], '(8, 8)': [0.335, 0.2852950096130371, 234.737768], '(4, 4)': [0.34, 0.23406600952148438, 238.497482]}\n",
      "{'(32, 32)': [0.235, 0.6100709438323975, 109.977806], '(16, 16)': [0.315, 0.41018199920654297, 212.532509], '(8, 8)': [0.335, 0.2852950096130371, 234.737768], '(4, 4)': [0.34, 0.23406600952148438, 238.497482], '(2, 2)': [0.25, 0.21297097206115723, 240.861017]}\n",
      "{'(32, 32)': [0.235, 0.6100709438323975, 109.977806], '(16, 16)': [0.315, 0.41018199920654297, 212.532509], '(8, 8)': [0.335, 0.2852950096130371, 234.737768], '(4, 4)': [0.34, 0.23406600952148438, 238.497482], '(2, 2)': [0.25, 0.21297097206115723, 240.861017], '(1, 1)': [0.28, 0.12837672233581543, 241.324181]}\n"
     ]
    }
   ],
   "source": [
    "epoch = 1\n",
    "cpu_time = 0\n",
    "results = {}\n",
    "reshaped_x_train_subset = x_train_subset\n",
    "while reshaped_x_train_subset[0].shape[0] >=1 :\n",
    "    current_dimensions = f\"({reshaped_x_train_subset[0].shape[0]}, {reshaped_x_train_subset[0].shape[1]})\"\n",
    "    start = time.time()\n",
    "    \n",
    "    # reprocess data\n",
    "    processed_x_train_subset = np.array([tt_decompose_and_flatten(image, int(tf.rank(image))) for image in reshaped_x_train_subset])\n",
    "     \n",
    "        \n",
    "    # get elapsed time\n",
    "    duration, cpu_time = time.time()-start, time.process_time()\n",
    "\n",
    "    # retrain and retest model\n",
    "    X_train, X_val, y_train, y_val = train_test_split(processed_x_train_subset, y_train_subset, test_size=0.2)\n",
    "    model.fit(X_train, y_train)\n",
    "    accuracy = model.score(X_val, y_val)\n",
    "\n",
    "    # save to results dictionary\n",
    "    results[current_dimensions] = [accuracy, duration, cpu_time]\n",
    "    epoch += 1\n",
    "    print(results)\n",
    "    \n",
    "    # reduce dimensions of image before next iteration, if possible\n",
    "    if (reshaped_x_train_subset[0].shape[0] > 1):  \n",
    "        reshaped_x_train_subset = np.array([cv2.resize(image, (image.shape[0]//2, image.shape[1]//2)) for image in reshaped_x_train_subset])\n",
    "    else: break"
   ]
  },
  {
   "cell_type": "code",
   "execution_count": 10,
   "id": "c6fc8a55",
   "metadata": {},
   "outputs": [],
   "source": [
    "accuracies = [val[0] for val in list(results.values())]\n",
    "cpu_times = [val[2] for val in list(results.values())]\n",
    "runtimes = [val[1] for val in list(results.values())]\n",
    "x_labels = list(results.keys())"
   ]
  },
  {
   "cell_type": "code",
   "execution_count": 11,
   "id": "9a4bcead",
   "metadata": {},
   "outputs": [
    {
     "name": "stdout",
     "output_type": "stream",
     "text": [
      "[109.977806, 212.532509, 234.737768, 238.497482, 240.861017, 241.324181]\n"
     ]
    }
   ],
   "source": [
    "print(cpu_times)"
   ]
  },
  {
   "cell_type": "code",
   "execution_count": 12,
   "id": "767fef23",
   "metadata": {},
   "outputs": [
    {
     "data": {
      "image/png": "[encoded data removed]",
      "text/plain": [
       "<Figure size 640x480 with 1 Axes>"
      ]
     },
     "metadata": {},
     "output_type": "display_data"
    }
   ],
   "source": [
    "plt.scatter(x_labels, runtimes, color='purple')\n",
    "plt.xlabel('Image dimensions')\n",
    "plt.ylabel('Runtime')\n",
    "plt.savefig('tt_runtimes', bbox_inches='tight', orientation='landscape')"
   ]
  },
  {
   "cell_type": "code",
   "execution_count": 13,
   "id": "1bd25b26",
   "metadata": {},
   "outputs": [
    {
     "data": {
      "image/png": "[encoded data removed]",
      "text/plain": [
       "<Figure size 640x480 with 1 Axes>"
      ]
     },
     "metadata": {},
     "output_type": "display_data"
    }
   ],
   "source": [
    "plt.scatter(x_labels,cpu_times,color='purple')\n",
    "plt.xlabel('Image dimensions')\n",
    "plt.ylabel('CPU usage time (cumulative)')\n",
    "plt.savefig('tt_cpu_times', bbox_inches='tight', orientation='landscape')"
   ]
  },
  {
   "cell_type": "code",
   "execution_count": 14,
   "id": "57fd71ef",
   "metadata": {},
   "outputs": [
    {
     "data": {
      "image/png": "[encoded data removed]",
      "text/plain": [
       "<Figure size 640x480 with 1 Axes>"
      ]
     },
     "metadata": {},
     "output_type": "display_data"
    }
   ],
   "source": [
    "plt.scatter(x_labels,accuracies,color='purple')\n",
    "plt.xlabel('Image dimensions')\n",
    "plt.ylabel('Model accuracy')\n",
    "plt.savefig('tt_accuracies', bbox_inches='tight', orientation='landscape')"
   ]
  },
  {
   "cell_type": "code",
   "execution_count": null,
   "id": "d6070830",
   "metadata": {},
   "outputs": [],
   "source": []
  }
 ],
 "metadata": {
  "kernelspec": {
   "display_name": "Python 3 (ipykernel)",
   "language": "python",
   "name": "python3"
  },
  "language_info": {
   "codemirror_mode": {
    "name": "ipython",
    "version": 3
   },
   "file_extension": ".py",
   "mimetype": "text/x-python",
   "name": "python",
   "nbconvert_exporter": "python",
   "pygments_lexer": "ipython3",
   "version": "3.8.9"
  }
 },
 "nbformat": 4,
 "nbformat_minor": 5
}

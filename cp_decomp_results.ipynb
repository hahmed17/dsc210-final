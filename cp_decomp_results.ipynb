{
 "cells": [
  {
   "cell_type": "code",
   "execution_count": 1,
   "id": "6ee59d0a",
   "metadata": {},
   "outputs": [],
   "source": [
    "import tensorflow as tf\n",
    "import tensorly as tl\n",
    "from tensorly.decomposition import parafac\n",
    "from sklearn.model_selection import train_test_split\n",
    "from sklearn.linear_model import LogisticRegression\n",
    "import numpy as np\n",
    "import time\n",
    "import matplotlib.pyplot as plt\n",
    "import cv2"
   ]
  },
  {
   "cell_type": "code",
   "execution_count": 2,
   "id": "f48b59a2",
   "metadata": {},
   "outputs": [],
   "source": [
    "# function that applies CP Decomposition to an image tensor and reshapes it for ML algorithm\n",
    "def decompose_and_flatten(tensor, rank):\n",
    "    factors = parafac(tensor, rank)\n",
    "    flattened = tl.kruskal_to_tensor(factors).flatten()\n",
    "    return flattened\n",
    "\n",
    "\n",
    "\n",
    "# load CIFAR-10 dataset\n",
    "(x_train, y_train), (x_test, y_test) = tf.keras.datasets.cifar10.load_data()"
   ]
  },
  {
   "cell_type": "code",
   "execution_count": 3,
   "id": "ea4b125a",
   "metadata": {},
   "outputs": [
    {
     "name": "stdout",
     "output_type": "stream",
     "text": [
      "CPU times: user 1h 23min 43s, sys: 3min 9s, total: 1h 26min 52s\n",
      "Wall time: 14min 34s\n"
     ]
    }
   ],
   "source": [
    "%%time\n",
    "# normalize pixel values to be between 0 and 1\n",
    "x_train, x_test = x_train / 255.0, x_test / 255.0\n",
    "\n",
    "# flatten the labels\n",
    "y_train, y_test = y_train.flatten(), y_test.flatten()\n",
    "\n",
    "# select a subset of the data\n",
    "subset_size = 1000\n",
    "x_train_subset = x_train[:subset_size]\n",
    "y_train_subset = y_train[:subset_size]\n",
    "\n",
    "# apply CP Decomposition to each image in the subset\n",
    "rank = 5\n",
    "processed_x_train_subset = np.array([decompose_and_flatten(image, rank) for image in x_train_subset])"
   ]
  },
  {
   "cell_type": "code",
   "execution_count": 4,
   "id": "24dbc39a",
   "metadata": {},
   "outputs": [
    {
     "name": "stdout",
     "output_type": "stream",
     "text": [
      "Model Accuracy: 0.335\n"
     ]
    },
    {
     "name": "stderr",
     "output_type": "stream",
     "text": [
      "/Users/Hena/Library/Python/3.8/lib/python/site-packages/sklearn/linear_model/_logistic.py:460: ConvergenceWarning: lbfgs failed to converge (status=1):\n",
      "STOP: TOTAL NO. of ITERATIONS REACHED LIMIT.\n",
      "\n",
      "Increase the number of iterations (max_iter) or scale the data as shown in:\n",
      "    https://scikit-learn.org/stable/modules/preprocessing.html\n",
      "Please also refer to the documentation for alternative solver options:\n",
      "    https://scikit-learn.org/stable/modules/linear_model.html#logistic-regression\n",
      "  n_iter_i = _check_optimize_result(\n"
     ]
    }
   ],
   "source": [
    "# split subset into training and test sets\n",
    "X_train, X_val, y_train, y_val = train_test_split(processed_x_train_subset, y_train_subset, test_size=0.2)\n",
    "\n",
    "# train a simple logistic regression model\n",
    "model = LogisticRegression(max_iter=1000)\n",
    "model.fit(X_train, y_train)\n",
    "\n",
    "# evaluate the model\n",
    "accuracy = model.score(X_val, y_val)\n",
    "print(f\"Model Accuracy: {accuracy}\")"
   ]
  },
  {
   "cell_type": "code",
   "execution_count": null,
   "id": "ab5b9ee8",
   "metadata": {},
   "outputs": [
    {
     "name": "stdout",
     "output_type": "stream",
     "text": [
      "{'(32, 32)': [0.325, 831.2861759662628, 27523.210382]}\n",
      "{'(32, 32)': [0.325, 831.2861759662628, 27523.210382], '(16, 16)': [0.275, 735.2455909252167, 32300.946484]}\n"
     ]
    }
   ],
   "source": [
    "results = {}\n",
    "reshaped_x_train_subset = x_train_subset\n",
    "while reshaped_x_train_subset[0].shape[0] >=1 :\n",
    "    current_dimensions = f\"({reshaped_x_train_subset[0].shape[0]}, {reshaped_x_train_subset[0].shape[1]})\"\n",
    "    start = time.time()\n",
    "    \n",
    "    # reprocess data\n",
    "    processed_x_train_subset = np.array([decompose_and_flatten(image, int(tf.rank(image))) for image in reshaped_x_train_subset])\n",
    "     \n",
    "        \n",
    "    # get elapsed time\n",
    "    duration, cpu_time = time.time()-start, time.process_time()\n",
    "\n",
    "    # retrain and retest model\n",
    "    X_train, X_val, y_train, y_val = train_test_split(processed_x_train_subset, y_train_subset, test_size=0.2)\n",
    "    model.fit(X_train, y_train)\n",
    "    accuracy = model.score(X_val, y_val)\n",
    "\n",
    "    # save to results dictionary\n",
    "    results[current_dimensions] = [accuracy, duration, cpu_time]\n",
    "    print(results)\n",
    "    \n",
    "    # reduce dimensions of image before next iteration, if possible\n",
    "    if (reshaped_x_train_subset[0].shape[0] > 1):  \n",
    "        reshaped_x_train_subset = np.array([cv2.resize(image, (image.shape[0]//2, image.shape[1]//2)) for image in reshaped_x_train_subset])\n",
    "    else: break"
   ]
  },
  {
   "cell_type": "code",
   "execution_count": null,
   "id": "c6fc8a55",
   "metadata": {},
   "outputs": [],
   "source": [
    "accuracies = [val[0] for val in list(results.values())]\n",
    "cpu_times = [val[2] for val in list(results.values())]\n",
    "runtimes = [val[1] for val in list(results.values())]\n",
    "x_labels = list(results.keys())"
   ]
  },
  {
   "cell_type": "code",
   "execution_count": null,
   "id": "9a4bcead",
   "metadata": {},
   "outputs": [],
   "source": [
    "print(cpu_times)"
   ]
  },
  {
   "cell_type": "code",
   "execution_count": null,
   "id": "767fef23",
   "metadata": {},
   "outputs": [],
   "source": [
    "plt.scatter(x_labels, runtimes, color='purple')\n",
    "plt.xlabel('Image dimensions')\n",
    "plt.ylabel('Runtime')\n",
    "plt.savefig('cp_runtimes', bbox_inches='tight', orientation='landscape')"
   ]
  },
  {
   "cell_type": "code",
   "execution_count": null,
   "id": "1bd25b26",
   "metadata": {},
   "outputs": [],
   "source": [
    "plt.scatter(x_labels,cpu_times,color='purple')\n",
    "plt.xlabel('Image dimensions')\n",
    "plt.ylabel('CPU usage time (cumulative)')\n",
    "plt.savefig('cp_cpu_times', bbox_inches='tight', orientation='landscape')"
   ]
  },
  {
   "cell_type": "code",
   "execution_count": null,
   "id": "57fd71ef",
   "metadata": {},
   "outputs": [],
   "source": [
    "plt.scatter(x_labels,accuracies,color='purple')\n",
    "plt.xlabel('Image dimensions')\n",
    "plt.ylabel('Model accuracy')\n",
    "plt.savefig('cp_accuracies', bbox_inches='tight', orientation='landscape')"
   ]
  }
 ],
 "metadata": {
  "kernelspec": {
   "display_name": "Python 3 (ipykernel)",
   "language": "python",
   "name": "python3"
  },
  "language_info": {
   "codemirror_mode": {
    "name": "ipython",
    "version": 3
   },
   "file_extension": ".py",
   "mimetype": "text/x-python",
   "name": "python",
   "nbconvert_exporter": "python",
   "pygments_lexer": "ipython3",
   "version": "3.8.9"
  }
 },
 "nbformat": 4,
 "nbformat_minor": 5
}
